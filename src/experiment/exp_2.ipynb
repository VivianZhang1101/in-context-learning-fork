{
 "cells": [
  {
   "cell_type": "code",
   "execution_count": 1,
   "id": "ed6cfeb1",
   "metadata": {},
   "outputs": [],
   "source": [
    "from collections import OrderedDict\n",
    "import re\n",
    "import os\n",
    "\n",
    "import matplotlib.pyplot as plt\n",
    "import pandas as pd\n",
    "import seaborn as sns\n",
    "import torch\n",
    "from tqdm.notebook import tqdm\n",
    "import numpy as np\n",
    "\n",
    "\n",
    "current_directory = os.getcwd()\n",
    "parent_directory = os.path.dirname(current_directory)\n",
    "os.chdir(parent_directory)\n",
    "\n",
    "from eval import get_run_metrics, read_run_dir, get_model_from_run\n",
    "from plot_utils import basic_plot, collect_results, relevant_model_names\n",
    "\n",
    "%matplotlib inline\n",
    "%load_ext autoreload\n",
    "%autoreload 2\n",
    "\n",
    "sns.set_theme('notebook', 'darkgrid')\n",
    "palette = sns.color_palette('colorblind')\n",
    "# Enable latex in plot\n",
    "# matplotlib.rcParams['text.usetex'] = True\n",
    "\n",
    "run_dir = \"../models\""
   ]
  },
  {
   "cell_type": "code",
   "execution_count": 2,
   "id": "0e8d018b",
   "metadata": {
    "scrolled": true
   },
   "outputs": [
    {
     "data": {
      "text/html": [
       "<div>\n",
       "<style scoped>\n",
       "    .dataframe tbody tr th:only-of-type {\n",
       "        vertical-align: middle;\n",
       "    }\n",
       "\n",
       "    .dataframe tbody tr th {\n",
       "        vertical-align: top;\n",
       "    }\n",
       "\n",
       "    .dataframe thead th {\n",
       "        text-align: right;\n",
       "    }\n",
       "</style>\n",
       "<table border=\"1\" class=\"dataframe\">\n",
       "  <thead>\n",
       "    <tr style=\"text-align: right;\">\n",
       "      <th></th>\n",
       "      <th>run_id</th>\n",
       "      <th>task</th>\n",
       "      <th>model</th>\n",
       "      <th>kwargs</th>\n",
       "      <th>num_tasks</th>\n",
       "      <th>num_examples</th>\n",
       "      <th>n_dims</th>\n",
       "      <th>n_layer</th>\n",
       "      <th>n_head</th>\n",
       "      <th>run_name</th>\n",
       "    </tr>\n",
       "  </thead>\n",
       "  <tbody>\n",
       "    <tr>\n",
       "      <th>0</th>\n",
       "      <td>pretrained_complete</td>\n",
       "      <td>linear_regression</td>\n",
       "      <td>Transformer</td>\n",
       "      <td></td>\n",
       "      <td>-1</td>\n",
       "      <td>-1</td>\n",
       "      <td>20</td>\n",
       "      <td>12</td>\n",
       "      <td>8</td>\n",
       "      <td>fix_linear_regression_standard</td>\n",
       "    </tr>\n",
       "  </tbody>\n",
       "</table>\n",
       "</div>"
      ],
      "text/plain": [
       "                run_id               task        model kwargs  num_tasks  \\\n",
       "0  pretrained_complete  linear_regression  Transformer                -1   \n",
       "\n",
       "   num_examples  n_dims  n_layer  n_head                        run_name  \n",
       "0            -1      20       12       8  fix_linear_regression_standard  "
      ]
     },
     "execution_count": 2,
     "metadata": {},
     "output_type": "execute_result"
    }
   ],
   "source": [
    "df = read_run_dir(run_dir)\n",
    "df  # list all the runs in our run_dir"
   ]
  },
  {
   "cell_type": "code",
   "execution_count": 3,
   "id": "a9980951",
   "metadata": {},
   "outputs": [],
   "source": [
    "task = \"linear_regression\"\n",
    "\n",
    "run_id = \"pretrained_complete\"  # if you train more models, replace with the run_id from the table above\n",
    "\n",
    "run_path = os.path.join(run_dir, task, run_id)\n",
    "recompute_metrics = False\n",
    "\n",
    "if recompute_metrics:\n",
    "    get_run_metrics(run_path)  # these are normally precomputed at the end of training"
   ]
  },
  {
   "cell_type": "markdown",
   "id": "f6d09964",
   "metadata": {},
   "source": [
    "# Plot pre-computed metrics"
   ]
  },
  {
   "cell_type": "code",
   "execution_count": 4,
   "id": "cd8e02c5",
   "metadata": {
    "scrolled": false
   },
   "outputs": [
    {
     "name": "stdout",
     "output_type": "stream",
     "text": [
      "run_name: fix_linear_regression_standard, id: pretrained_complete\n"
     ]
    },
    {
     "name": "stderr",
     "output_type": "stream",
     "text": [
      "100%|██████████| 15/15 [00:00<00:00, 247695.12it/s]"
     ]
    },
    {
     "name": "stdout",
     "output_type": "stream",
     "text": [
      "------------------------\n"
     ]
    },
    {
     "name": "stderr",
     "output_type": "stream",
     "text": [
      "\n"
     ]
    }
   ],
   "source": [
    "def valid_row(r):\n",
    "    return r.task == task and r.run_id == run_id\n",
    "\n",
    "metrics = collect_results(run_dir, df, valid_row=valid_row)\n",
    "_, conf = get_model_from_run(run_path, only_conf=True)\n",
    "n_dims = conf.model.n_dims\n"
   ]
  },
  {
   "cell_type": "code",
   "execution_count": 5,
   "id": "beb327ce",
   "metadata": {},
   "outputs": [],
   "source": [
    "from samplers import get_data_sampler\n",
    "from tasks import get_task_sampler"
   ]
  },
  {
   "cell_type": "code",
   "execution_count": 6,
   "id": "8f45232c",
   "metadata": {},
   "outputs": [],
   "source": [
    "model, conf = get_model_from_run(run_path)\n",
    "\n",
    "n_dims = conf.model.n_dims\n",
    "batch_size = conf.training.batch_size\n",
    "data_sampler = get_data_sampler(conf.training.data, n_dims)\n",
    "task_sampler = get_task_sampler(\n",
    "    conf.training.task,\n",
    "    n_dims,\n",
    "    batch_size,\n",
    "    **conf.training.task_kwargs\n",
    ")\n",
    "\n",
    "task = task_sampler()\n",
    "metric = task.get_metric()"
   ]
  },
  {
   "cell_type": "code",
   "execution_count": 8,
   "id": "f4afd197",
   "metadata": {},
   "outputs": [],
   "source": [
    "def R_Square_Error(ys, pred):\n",
    "    y_mean = torch.mean(ys)\n",
    "\n",
    "    SS_tot = torch.sum((ys - y_mean) ** 2)\n",
    "    SS_res = torch.sum((ys - pred) ** 2)\n",
    "\n",
    "    R_square = 1 - SS_res / SS_tot\n",
    "    return R_square"
   ]
  },
  {
   "cell_type": "markdown",
   "id": "9f4b2c07",
   "metadata": {},
   "source": [
    "### Setup - saving xs and ys lists"
   ]
  },
  {
   "cell_type": "code",
   "execution_count": 9,
   "id": "7efe0bf4",
   "metadata": {},
   "outputs": [
    {
     "data": {
      "application/json": {
       "ascii": false,
       "bar_format": null,
       "colour": null,
       "elapsed": 0.004957914352416992,
       "initial": 0,
       "n": 0,
       "ncols": null,
       "nrows": null,
       "postfix": null,
       "prefix": "",
       "rate": null,
       "total": 1,
       "unit": "it",
       "unit_divisor": 1000,
       "unit_scale": false
      },
      "application/vnd.jupyter.widget-view+json": {
       "model_id": "dcfb11d4ea564cc1bb80ee79e04b5a8d",
       "version_major": 2,
       "version_minor": 0
      },
      "text/plain": [
       "  0%|          | 0/1 [00:00<?, ?it/s]"
      ]
     },
     "metadata": {},
     "output_type": "display_data"
    }
   ],
   "source": [
    "# n_batches = 100 \n",
    "n_batches = 1 # We use n_batches = 1 here to speed up the experiment speed. We used n_batches = 100 for the experiment result in the paper\n",
    "prompt_length = 76\n",
    "# # save xs and ys for later parts\n",
    "xs_list = [] \n",
    "ys_list = [] \n",
    "actual_points_w_1 = [[] for _ in range(prompt_length)]\n",
    "predicted_points_w_1 = [[] for _ in range(prompt_length)]\n",
    "i = 0\n",
    "# Generate data and perform the experiment\n",
    "for _ in tqdm(range(n_batches)):\n",
    "    i += 1\n",
    "    # if i%20 == 0:\n",
    "    #     print(f\"batch: {i}\")\n",
    "    xs = data_sampler.sample_xs(b_size=batch_size, n_points=prompt_length)\n",
    "    # 64 x 101 x 20\n",
    "    xs_list.append(xs)\n",
    "    ys = task.evaluate(xs)\n",
    "    # 64 x 101\n",
    "    ys_list.append(ys)\n",
    "\n",
    "    with torch.no_grad():\n",
    "        pred = model(xs, ys)\n",
    "    for j in range(prompt_length):\n",
    "        actual_points_w_1[j].extend(ys[:, j])\n",
    "        predicted_points_w_1[j].extend(pred[:, j])"
   ]
  },
  {
   "cell_type": "code",
   "execution_count": 10,
   "id": "34ce8fda",
   "metadata": {},
   "outputs": [],
   "source": [
    "w_1 = []\n",
    "\n",
    "for point_idx in range(prompt_length):\n",
    "    actual = torch.tensor(actual_points_w_1[point_idx])\n",
    "    predicted = torch.tensor(predicted_points_w_1[point_idx])\n",
    "    R_square = R_Square_Error(actual, predicted)\n",
    "    w_1.append(R_square)\n",
    "    \n",
    "torch.save(xs_list, './data/xs_list.pth')\n",
    "torch.save(ys_list, './data/ys_list.pth')\n",
    "with open('./data/exp_2_w_1.txt', 'w') as f:\n",
    "    for value in w_1:\n",
    "        f.write(f\"{value}\\n\")\n"
   ]
  },
  {
   "cell_type": "markdown",
   "id": "cf34feec",
   "metadata": {},
   "source": [
    "### Part 1 - random 10p"
   ]
  },
  {
   "cell_type": "code",
   "execution_count": 11,
   "id": "5a91c5dd",
   "metadata": {},
   "outputs": [
    {
     "name": "stdout",
     "output_type": "stream",
     "text": [
      "start running\n"
     ]
    },
    {
     "data": {
      "application/json": {
       "ascii": false,
       "bar_format": null,
       "colour": null,
       "elapsed": 0.004826545715332031,
       "initial": 0,
       "n": 0,
       "ncols": null,
       "nrows": null,
       "postfix": null,
       "prefix": "",
       "rate": null,
       "total": 1,
       "unit": "it",
       "unit_divisor": 1000,
       "unit_scale": false
      },
      "application/vnd.jupyter.widget-view+json": {
       "model_id": "92d8601155684350818cd6e25e045502",
       "version_major": 2,
       "version_minor": 0
      },
      "text/plain": [
       "  0%|          | 0/1 [00:00<?, ?it/s]"
      ]
     },
     "metadata": {},
     "output_type": "display_data"
    },
    {
     "name": "stdout",
     "output_type": "stream",
     "text": [
      "0\n",
      "Batch 0: Finished exp_2_10p_random\n"
     ]
    }
   ],
   "source": [
    "actual_points_10_random = [[] for _ in range(prompt_length)]\n",
    "predicted_points_10_random = [[] for _ in range(prompt_length)]\n",
    "xs_list = torch.load('./data/xs_list.pth')\n",
    "ys_list = torch.load('./data/ys_list.pth')\n",
    "# Generate data and perform the experiment\n",
    "i = 0\n",
    "print(\"start running\")\n",
    "for batch_idx in tqdm(range(n_batches)):\n",
    "    print(batch_idx)\n",
    "    i += 1\n",
    "    # if i%10 == 0:\n",
    "    #     print(f\"batch: {i}\")\n",
    "    xs = xs_list[batch_idx]\n",
    "    ys = ys_list[batch_idx]\n",
    "\n",
    "    # j's idx starts at 1, but in graph, we refer it to 0\n",
    "    pred = model(xs, ys)\n",
    "    actual_points_10_random[0].extend(ys[:, 0])\n",
    "    predicted_points_10_random[0].extend(pred[:, 0])\n",
    "    \n",
    "    for j in range(1, prompt_length):\n",
    "        permuted_ys = np.copy(ys)\n",
    "        if j > 2:  # if j == 1, 2, there are no prior labels or no need to permuted\n",
    "            for i in range(batch_size):\n",
    "                num_elements_to_shuffle = int(j * 0.10)\n",
    "                indices_to_shuffle = np.random.choice(j, num_elements_to_shuffle, replace=False)\n",
    "                elements_to_shuffle = permuted_ys[i, indices_to_shuffle]\n",
    "                np.random.shuffle(elements_to_shuffle)\n",
    "                permuted_ys[i, indices_to_shuffle] = elements_to_shuffle\n",
    "            # print('sample', num_elements_to_shuffle)\n",
    "                \n",
    "        # Transfer np array to tensor\n",
    "        permuted_ys_tensor = torch.from_numpy(permuted_ys)\n",
    "        # predict with the si\n",
    "        with torch.no_grad():\n",
    "            pred = model(xs, permuted_ys_tensor)\n",
    "        \n",
    "        # for j in range(prompt_length):\n",
    "        actual_points_10_random[j].extend(ys[:, j])\n",
    "        predicted_points_10_random[j].extend(pred[:, j])\n",
    "\n",
    "    random_10p = []\n",
    "\n",
    "    for point_idx in range(prompt_length):\n",
    "        actual = torch.tensor(actual_points_10_random[point_idx])\n",
    "        predicted = torch.tensor(predicted_points_10_random[point_idx])\n",
    "        R_square = R_Square_Error(actual, predicted)\n",
    "        random_10p.append(R_square)\n",
    "\n",
    "    with open('./data/exp_2_10p_random.txt', 'w') as f:\n",
    "        for value in random_10p:\n",
    "            f.write(f\"{value}\\n\")\n",
    "    print(f\"Batch {batch_idx}: Finished exp_2_10p_random\")"
   ]
  },
  {
   "cell_type": "markdown",
   "id": "2e92a5e4",
   "metadata": {},
   "source": [
    "### Part 2 - random 20p"
   ]
  },
  {
   "cell_type": "code",
   "execution_count": 12,
   "id": "6b875de6",
   "metadata": {},
   "outputs": [
    {
     "data": {
      "application/json": {
       "ascii": false,
       "bar_format": null,
       "colour": null,
       "elapsed": 0.0054128170013427734,
       "initial": 0,
       "n": 0,
       "ncols": null,
       "nrows": null,
       "postfix": null,
       "prefix": "",
       "rate": null,
       "total": 1,
       "unit": "it",
       "unit_divisor": 1000,
       "unit_scale": false
      },
      "application/vnd.jupyter.widget-view+json": {
       "model_id": "bba64ffad168462b998644e210c53536",
       "version_major": 2,
       "version_minor": 0
      },
      "text/plain": [
       "  0%|          | 0/1 [00:00<?, ?it/s]"
      ]
     },
     "metadata": {},
     "output_type": "display_data"
    },
    {
     "name": "stdout",
     "output_type": "stream",
     "text": [
      "0\n",
      "Batch 0: Finished exp_2_20p_random\n"
     ]
    }
   ],
   "source": [
    "actual_points_20_random = [[] for _ in range(prompt_length)]\n",
    "predicted_points_20_random = [[] for _ in range(prompt_length)]\n",
    "xs_list = torch.load('./data/xs_list.pth')\n",
    "ys_list = torch.load('./data/ys_list.pth')\n",
    "# Generate data and perform the experiment\n",
    "i = 0\n",
    "for batch_idx in tqdm(range(n_batches)):\n",
    "    print(batch_idx)\n",
    "    i += 1\n",
    "    # if i%10 == 0:\n",
    "    #     print(f\"batch: {i}\")\n",
    "    xs = xs_list[batch_idx]\n",
    "    ys = ys_list[batch_idx]\n",
    "\n",
    "    # j's idx starts at 1, but in graph, we refer it to 0\n",
    "    pred = model(xs, ys)\n",
    "    actual_points_20_random[0].extend(ys[:, 0])\n",
    "    predicted_points_20_random[0].extend(pred[:, 0])\n",
    "    \n",
    "    for j in range(1, prompt_length):\n",
    "        permuted_ys = np.copy(ys)\n",
    "        if j > 2:  # if j == 1, 2, there are no prior labels or no need to permuted\n",
    "            for i in range(batch_size):\n",
    "                num_elements_to_shuffle = int(j * 0.20)\n",
    "                indices_to_shuffle = np.random.choice(j, num_elements_to_shuffle, replace=False)\n",
    "                elements_to_shuffle = permuted_ys[i, indices_to_shuffle]\n",
    "                np.random.shuffle(elements_to_shuffle)\n",
    "                permuted_ys[i, indices_to_shuffle] = elements_to_shuffle\n",
    "            # print('sample', num_elements_to_shuffle)\n",
    "                \n",
    "        # Transfer np array to tensor\n",
    "        permuted_ys_tensor = torch.from_numpy(permuted_ys)\n",
    "        # predict with the si\n",
    "        with torch.no_grad():\n",
    "            pred = model(xs, permuted_ys_tensor)\n",
    "        \n",
    "        # for j in range(prompt_length):\n",
    "        actual_points_20_random[j].extend(ys[:, j])\n",
    "        predicted_points_20_random[j].extend(pred[:, j])\n",
    "\n",
    "    random_20p = []\n",
    "\n",
    "    for point_idx in range(prompt_length):\n",
    "        actual = torch.tensor(actual_points_20_random[point_idx])\n",
    "        predicted = torch.tensor(predicted_points_20_random[point_idx])\n",
    "        R_square = R_Square_Error(actual, predicted)\n",
    "        random_20p.append(R_square)\n",
    "\n",
    "    with open('./data/exp_2_20p_random.txt', 'w') as f:\n",
    "        for value in random_20p:\n",
    "            f.write(f\"{value}\\n\")\n",
    "    print(f\"Batch {batch_idx}: Finished exp_2_20p_random\")"
   ]
  },
  {
   "cell_type": "code",
   "execution_count": 13,
   "id": "5ae569af",
   "metadata": {},
   "outputs": [],
   "source": [
    "with open('./data/base_line.txt', 'r') as file:\n",
    "    base_line = [float(line.strip()) for line in file]"
   ]
  },
  {
   "cell_type": "code",
   "execution_count": 15,
   "id": "11138314",
   "metadata": {},
   "outputs": [
    {
     "data": {
      "image/png": "[encoded data removed]",
      "text/plain": [
       "<Figure size 1000x500 with 1 Axes>"
      ]
     },
     "metadata": {
      "needs_background": "light"
     },
     "output_type": "display_data"
    }
   ],
   "source": [
    "\n",
    "plt.figure(figsize=(10, 5), facecolor='none')\n",
    "plt.plot(range(prompt_length), w_1, label=\"Acc=100%\", linewidth=3, color=\"darkred\")\n",
    "plt.plot(range(prompt_length), random_10p, label=\"Acc=90%\", linewidth=3)\n",
    "plt.plot(range(prompt_length), random_20p, label=\"Acc=80%\", linewidth=3)\n",
    "plt.plot(range(prompt_length), base_line, label=\"Least Squares\", linewidth=3, color=\"grey\")\n",
    "x = [0, 25, 50, 75]\n",
    "plt.xticks(x, fontsize=28)\n",
    "plt.yticks(fontsize=28)\n",
    "plt.axhline(1, ls=\"--\", color=\"darkgrey\")\n",
    "plt.axvline(x=50, color='darkgrey', linestyle='--')  # Grey vertical line\n",
    "plt.legend(loc='lower right', fontsize=16)\n",
    "plt.xlabel('In-context Examples', fontsize=28)\n",
    "plt.ylabel('R-Squared', fontsize=28)\n",
    "plt.grid(color='lightgray', linestyle='-', linewidth=0.5)\n",
    "# save figs\n",
    "plt.savefig(\"../output/4_2.pdf\", bbox_inches = \"tight\", transparent=True)\n",
    "plt.show()"
   ]
  }
 ],
 "metadata": {
  "kernelspec": {
   "display_name": "Python 3 (ipykernel)",
   "language": "python",
   "name": "python3"
  },
  "language_info": {
   "codemirror_mode": {
    "name": "ipython",
    "version": 3
   },
   "file_extension": ".py",
   "mimetype": "text/x-python",
   "name": "python",
   "nbconvert_exporter": "python",
   "pygments_lexer": "ipython3",
   "version": "3.8.12"
  }
 },
 "nbformat": 4,
 "nbformat_minor": 5
}
